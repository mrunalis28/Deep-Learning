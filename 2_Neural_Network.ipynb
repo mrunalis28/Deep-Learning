{
 "cells": [
  {
   "cell_type": "markdown",
   "metadata": {
    "id": "p_fxibyumSJd"
   },
   "source": [
    "# Part 1: Neural Network"
   ]
  },
  {
   "cell_type": "markdown",
   "metadata": {
    "id": "b_DqblN4mSJl"
   },
   "source": [
    "### Importing libraries"
   ]
  },
  {
   "cell_type": "code",
   "execution_count": null,
   "metadata": {},
   "outputs": [],
   "source": [
    "conda create -n tensorflow"
   ]
  },
  {
   "cell_type": "code",
   "execution_count": 1,
   "metadata": {
    "id": "6c4cAGtKmSJq"
   },
   "outputs": [
    {
     "name": "stderr",
     "output_type": "stream",
     "text": [
      "UsageError: Line magic function `%tensorflow_version` not found.\n"
     ]
    }
   ],
   "source": [
    "%tensorflow_version 1.x\n",
    "import warnings\n",
    "warnings.filterwarnings('ignore')\n",
    "\n",
    "import numpy as np\n",
    "import matplotlib.pyplot as plt\n",
    "import keras\n",
    "from keras.datasets import mnist\n",
    "from keras.models import Sequential,model_from_json\n",
    "from keras.layers import Dense\n",
    "from keras.optimizers import RMSprop\n",
    "import pylab as plt"
   ]
  },
  {
   "cell_type": "markdown",
   "metadata": {
    "id": "etMXuztNmSJ7"
   },
   "source": [
    "#### Keras is the deep learning library that helps you to code Deep Neural Networks with fewer lines of code "
   ]
  },
  {
   "cell_type": "markdown",
   "metadata": {
    "id": "Lh3WaWY3mSJ-"
   },
   "source": [
    "### Import data"
   ]
  },
  {
   "cell_type": "code",
   "execution_count": null,
   "metadata": {
    "colab": {
     "base_uri": "https://localhost:8080/"
    },
    "id": "Ii7ouzosmSJ_",
    "outputId": "3596034c-0e34-40f5-90a3-1a3ad9fbeb40"
   },
   "outputs": [],
   "source": [
    "batch_size = 128\n",
    "num_classes = 10\n",
    "epochs = 2\n",
    "\n",
    "# the data, split between train and test sets\n",
    "(x_train, y_train), (x_test, y_test) = mnist.load_data()\n",
    "\n",
    "x_train = x_train.reshape(60000, 784)\n",
    "x_test = x_test.reshape(10000, 784)\n",
    "x_train = x_train.astype('float32')\n",
    "x_test = x_test.astype('float32')\n",
    "\n",
    "# Normalize to 0 to 1 range\n",
    "x_train /= 255\n",
    "x_test /= 255\n",
    "\n",
    "print(x_train.shape[0], 'train samples')\n",
    "print(x_test.shape[0], 'test samples')\n",
    "# convert class vectors to binary class matrices\n",
    "y_train = keras.utils.to_categorical(y_train, num_classes)\n",
    "y_test = keras.utils.to_categorical(y_test, num_classes)"
   ]
  },
  {
   "cell_type": "markdown",
   "metadata": {
    "id": "-djms6CNmSKI"
   },
   "source": [
    "### Visualize Data"
   ]
  },
  {
   "cell_type": "code",
   "execution_count": null,
   "metadata": {
    "colab": {
     "base_uri": "https://localhost:8080/",
     "height": 282
    },
    "id": "luRAaA39mSKJ",
    "outputId": "ddcd88d0-f276-4551-fc56-998eae924ddb",
    "scrolled": true
   },
   "outputs": [],
   "source": [
    "print(\"Label:\",y_test[250:251])\n",
    "plt.imshow(x_test[250:251].reshape(28,28), cmap='gray')\n",
    "plt.show()"
   ]
  },
  {
   "cell_type": "markdown",
   "metadata": {
    "id": "H3ab2fitmSKS"
   },
   "source": [
    "#### Note: Images are also considered as numerical matrices"
   ]
  },
  {
   "cell_type": "markdown",
   "metadata": {
    "id": "cNx2l-Q5mSKU"
   },
   "source": [
    "### Design a model"
   ]
  },
  {
   "cell_type": "code",
   "execution_count": null,
   "metadata": {
    "colab": {
     "base_uri": "https://localhost:8080/"
    },
    "id": "tN_v-2X1mSKW",
    "outputId": "ca58b417-1010-45e8-9121-4ae54469f9b3",
    "scrolled": true
   },
   "outputs": [],
   "source": [
    "first_layer_size = 32\n",
    "model = Sequential()\n",
    "model.add(Dense(first_layer_size, activation='sigmoid', input_shape=(784,)))\n",
    "model.add(Dense(32, activation='sigmoid'))\n",
    "model.add(Dense(num_classes, activation='softmax'))\n",
    "\n",
    "model.summary()"
   ]
  },
  {
   "cell_type": "markdown",
   "metadata": {
    "id": "Sdeii25OmSKe"
   },
   "source": [
    "### Weights before Training"
   ]
  },
  {
   "cell_type": "code",
   "execution_count": null,
   "metadata": {
    "colab": {
     "base_uri": "https://localhost:8080/",
     "height": 667
    },
    "id": "CMBaCgnrmSKg",
    "outputId": "8079e39f-4ddf-4368-f61c-d48d2c264b0d"
   },
   "outputs": [],
   "source": [
    "w = []\n",
    "for layer in model.layers:\n",
    "    weights = layer.get_weights()\n",
    "    w.append(weights)\n",
    "\n",
    "layer1 = np.array(w[0][0])\n",
    "print(\"Shape of First Layer\",layer1.shape)\n",
    "print(\"Visualization of First Layer\")\n",
    "fig=plt.figure(figsize=(12, 12))\n",
    "columns = 8\n",
    "rows = int(first_layer_size/8)\n",
    "for i in range(1, columns*rows +1):\n",
    "    fig.add_subplot(rows, columns, i)\n",
    "    plt.imshow(layer1[:,i-1].reshape(28,28),cmap='gray')\n",
    "plt.show()"
   ]
  },
  {
   "cell_type": "markdown",
   "metadata": {
    "id": "UmGl68DamSKn"
   },
   "source": [
    "### Compiling a Model"
   ]
  },
  {
   "cell_type": "code",
   "execution_count": null,
   "metadata": {
    "id": "e8sb3VnemSKp",
    "scrolled": false
   },
   "outputs": [],
   "source": [
    "model.compile(loss='categorical_crossentropy',\n",
    "              optimizer=RMSprop(),\n",
    "              metrics=['accuracy'])\n"
   ]
  },
  {
   "cell_type": "markdown",
   "metadata": {
    "id": "cuF1EvpRmSKu"
   },
   "source": [
    "### Training"
   ]
  },
  {
   "cell_type": "code",
   "execution_count": null,
   "metadata": {
    "colab": {
     "base_uri": "https://localhost:8080/"
    },
    "id": "4650LB1qmSKw",
    "outputId": "f086af47-06f1-447b-f825-70486ffd0182"
   },
   "outputs": [],
   "source": [
    "# Write the Training input and output variables, size of the batch, number of epochs\n",
    "history = model.fit(x_train,y_train,\n",
    "                    batch_size=batch_size,\n",
    "                    epochs=epochs,\n",
    "                    verbose=1)"
   ]
  },
  {
   "cell_type": "markdown",
   "metadata": {
    "id": "agLG0AfxmSK5"
   },
   "source": [
    "### Testing"
   ]
  },
  {
   "cell_type": "code",
   "execution_count": null,
   "metadata": {
    "colab": {
     "base_uri": "https://localhost:8080/"
    },
    "id": "sOqHwCYKmSK8",
    "outputId": "3463b13f-6d7c-42b2-9331-309d9f2d3c48"
   },
   "outputs": [],
   "source": [
    "# Write the testing input and output variables\n",
    "score = model.evaluate(x_test, y_test, verbose=0)\n",
    "print('Test loss:', score[0])\n",
    "print('Test accuracy:', score[1])"
   ]
  },
  {
   "cell_type": "markdown",
   "metadata": {
    "id": "CzpQBZSSmSLI"
   },
   "source": [
    "### Weights after Training"
   ]
  },
  {
   "cell_type": "code",
   "execution_count": null,
   "metadata": {
    "colab": {
     "base_uri": "https://localhost:8080/",
     "height": 667
    },
    "id": "V2N99TmMmSLL",
    "outputId": "5b04bc9e-6a99-442f-f097-b066dcfbe11d"
   },
   "outputs": [],
   "source": [
    "w = []\n",
    "for layer in model.layers:\n",
    "    weights = layer.get_weights()\n",
    "    w.append(weights)\n",
    "\n",
    "layer1 = np.array(w[0][0])\n",
    "print(\"Shape of First Layer\",layer1.shape)\n",
    "print(\"Visualization of First Layer\")\n",
    "fig=plt.figure(figsize=(12, 12))\n",
    "columns = 8\n",
    "rows = int(first_layer_size/8)\n",
    "for i in range(1, columns*rows +1):\n",
    "    fig.add_subplot(rows, columns, i)\n",
    "    plt.imshow(layer1[:,i-1].reshape(28,28),cmap='gray')\n",
    "plt.show()"
   ]
  },
  {
   "cell_type": "markdown",
   "metadata": {
    "id": "OeWYc7TEmSLY"
   },
   "source": [
    "### Take away\n",
    "* This internal representation reflects Latent Variables\n",
    "* Each of the nodes will look for a specific pattern in the input\n",
    "* A node will get activated if input is similar to the feature it looks for\n",
    "* Each node is unique and often orthogonal to each other"
   ]
  },
  {
   "cell_type": "markdown",
   "metadata": {
    "id": "9i42YecvmSLb"
   },
   "source": [
    "### Prediction"
   ]
  },
  {
   "cell_type": "code",
   "execution_count": null,
   "metadata": {
    "colab": {
     "base_uri": "https://localhost:8080/"
    },
    "id": "2OqBPS3DmSLe",
    "outputId": "f172be54-8aef-401d-9dbc-40886ce3039f"
   },
   "outputs": [],
   "source": [
    "# Write the index of the test sample to test\n",
    "prediction = model.predict(x_test[23:24])\n",
    "prediction = prediction[0]\n",
    "print('Prediction\\n',prediction)\n",
    "print('\\nThresholded output\\n',(prediction>0.5)*1)"
   ]
  },
  {
   "cell_type": "markdown",
   "metadata": {
    "id": "gyz4XOM5mSLl"
   },
   "source": [
    "### Ground truth"
   ]
  },
  {
   "cell_type": "code",
   "execution_count": null,
   "metadata": {
    "colab": {
     "base_uri": "https://localhost:8080/",
     "height": 265
    },
    "id": "hXHxKEDGmSLn",
    "outputId": "a93a751a-6a4e-4e57-fde0-b7781f16936b"
   },
   "outputs": [],
   "source": [
    "# Write the index of the test sample to show\n",
    "plt.imshow(x_test[23:24].reshape(28,28),cmap='gray')\n",
    "plt.show()"
   ]
  },
  {
   "cell_type": "markdown",
   "metadata": {
    "id": "wcm159EjmSLw"
   },
   "source": [
    "### User Input"
   ]
  },
  {
   "cell_type": "code",
   "execution_count": null,
   "metadata": {
    "colab": {
     "base_uri": "https://localhost:8080/"
    },
    "id": "YiH1XkgXmZ0q",
    "outputId": "c429baef-d2ae-453c-bf3d-2aa5778e8358"
   },
   "outputs": [],
   "source": [
    "!wget https://notebooks.azure.com/vipulmishra/projects/labgail/raw/digit.jpg"
   ]
  },
  {
   "cell_type": "code",
   "execution_count": null,
   "metadata": {
    "colab": {
     "base_uri": "https://localhost:8080/",
     "height": 265
    },
    "id": "YumS33GwmSLx",
    "outputId": "21f362d6-8a0a-4429-b9e5-ba04c15c76ec"
   },
   "outputs": [],
   "source": [
    "# Load library\n",
    "import cv2\n",
    "import numpy as np\n",
    "from matplotlib import pyplot as plt\n",
    "\n",
    "# Load image in color\n",
    "image_bgr = cv2.imread('digit.png.png', cv2.IMREAD_COLOR)\n",
    "# Convert to RGB\n",
    "image_rgb = cv2.cvtColor(image_bgr, cv2.COLOR_BGR2RGB)\n",
    "print(image_rgb.shape)\n",
    "# Show image\n",
    "plt.imshow(image_rgb), plt.axis(\"off\")\n",
    "plt.show()"
   ]
  },
  {
   "cell_type": "markdown",
   "metadata": {
    "id": "A3nA75YOmSL4"
   },
   "source": [
    "### Convert to grayscale and resize"
   ]
  },
  {
   "cell_type": "code",
   "execution_count": null,
   "metadata": {
    "colab": {
     "base_uri": "https://localhost:8080/",
     "height": 252
    },
    "id": "ROHfVh_kmSL6",
    "outputId": "9b39d34c-8b4f-44e2-9c0b-bb28bd8e0074"
   },
   "outputs": [],
   "source": [
    "# Load image as grayscale\n",
    "\n",
    "# Write the path to the image\n",
    "\n",
    "image = cv2.imread('digit.jpg', cv2.IMREAD_GRAYSCALE)\n",
    "image_resized = cv2.resize(image, (28, 28)) \n",
    "# Show image\n",
    "plt.imshow(image_resized, cmap='gray'), plt.axis(\"off\")\n",
    "plt.show()"
   ]
  },
  {
   "cell_type": "markdown",
   "metadata": {
    "id": "shkvgKcFmSMB"
   },
   "source": [
    "### Prediction"
   ]
  },
  {
   "cell_type": "code",
   "execution_count": 2,
   "metadata": {
    "colab": {
     "base_uri": "https://localhost:8080/",
     "height": 168
    },
    "id": "8Rc4V2LEmSMD",
    "outputId": "ca28ac9c-d8b2-45c4-b727-28e36ed2aee3",
    "scrolled": true
   },
   "outputs": [
    {
     "ename": "NameError",
     "evalue": "name 'model' is not defined",
     "output_type": "error",
     "traceback": [
      "\u001b[1;31m---------------------------------------------------------------------------\u001b[0m",
      "\u001b[1;31mNameError\u001b[0m                                 Traceback (most recent call last)",
      "Input \u001b[1;32mIn [2]\u001b[0m, in \u001b[0;36m<cell line: 1>\u001b[1;34m()\u001b[0m\n\u001b[1;32m----> 1\u001b[0m prediction \u001b[38;5;241m=\u001b[39m \u001b[43mmodel\u001b[49m\u001b[38;5;241m.\u001b[39mpredict(image_resized\u001b[38;5;241m.\u001b[39mreshape(\u001b[38;5;241m1\u001b[39m,\u001b[38;5;241m784\u001b[39m))\n\u001b[0;32m      2\u001b[0m \u001b[38;5;28mprint\u001b[39m(\u001b[38;5;124m'\u001b[39m\u001b[38;5;124mPrediction Score:\u001b[39m\u001b[38;5;130;01m\\n\u001b[39;00m\u001b[38;5;124m'\u001b[39m,prediction[\u001b[38;5;241m0\u001b[39m])\n\u001b[0;32m      3\u001b[0m thresholded \u001b[38;5;241m=\u001b[39m (prediction\u001b[38;5;241m>\u001b[39m\u001b[38;5;241m0.5\u001b[39m)\u001b[38;5;241m*\u001b[39m\u001b[38;5;241m1\u001b[39m\n",
      "\u001b[1;31mNameError\u001b[0m: name 'model' is not defined"
     ]
    }
   ],
   "source": [
    "prediction = model.predict(image_resized.reshape(1,784))\n",
    "print('Prediction Score:\\n',prediction[0])\n",
    "thresholded = (prediction>0.5)*1\n",
    "print('\\nThresholded Score:\\n',thresholded[0])\n",
    "print('\\nPredicted Digit:\\n',np.where(thresholded == 1)[1][0])"
   ]
  },
  {
   "cell_type": "markdown",
   "metadata": {
    "id": "c_7STSE1mSMO"
   },
   "source": [
    "# Part 2: Saving, Loading and Retraining Models"
   ]
  },
  {
   "cell_type": "markdown",
   "metadata": {
    "id": "28KqNcJCmSMP"
   },
   "source": [
    "### Saving a model"
   ]
  },
  {
   "cell_type": "code",
   "execution_count": null,
   "metadata": {
    "colab": {
     "base_uri": "https://localhost:8080/",
     "height": 34
    },
    "id": "GB3o9R_EmSMR",
    "outputId": "eb2fd19a-a557-4427-8518-3abebcca64d9",
    "scrolled": true
   },
   "outputs": [],
   "source": [
    "# serialize model to JSON\n",
    "model_json = model.to_json()\n",
    "\n",
    "# Write the file name of the model\n",
    "\n",
    "with open(\"model.json\", \"w\") as json_file:\n",
    "    json_file.write(model_json)\n",
    "    \n",
    "# serialize weights to HDF5\n",
    "# Write the file name of the weights\n",
    "\n",
    "model.save_weights(\"model.h5\")\n",
    "print(\"Saved model to disk\")"
   ]
  },
  {
   "cell_type": "markdown",
   "metadata": {
    "id": "TZxBZaT2mSMZ"
   },
   "source": [
    "### Loading a model"
   ]
  },
  {
   "cell_type": "code",
   "execution_count": null,
   "metadata": {
    "colab": {
     "base_uri": "https://localhost:8080/",
     "height": 34
    },
    "id": "rBdvzneTmSMa",
    "outputId": "48929875-da07-47e4-97e2-e4091ea6c5d7",
    "scrolled": true
   },
   "outputs": [],
   "source": [
    "# load json and create model\n",
    "\n",
    "# Write the file name of the model\n",
    "\n",
    "json_file = open('model.json', 'r')\n",
    "loaded_model_json = json_file.read()\n",
    "json_file.close()\n",
    "loaded_model = model_from_json(loaded_model_json)\n",
    "\n",
    "# load weights into new model\n",
    "# Write the file name of the weights\n",
    "\n",
    "loaded_model.load_weights(\"model.h5\")\n",
    "print(\"Loaded model from disk\")"
   ]
  },
  {
   "cell_type": "markdown",
   "metadata": {
    "id": "dFKj3Ba5mSMg"
   },
   "source": [
    "### Retraining a model"
   ]
  },
  {
   "cell_type": "code",
   "execution_count": null,
   "metadata": {
    "colab": {
     "base_uri": "https://localhost:8080/",
     "height": 118
    },
    "id": "9phqgMqkmSMi",
    "outputId": "840e7dcd-4715-4aea-aa9e-c371d2bb8ee2"
   },
   "outputs": [],
   "source": [
    "loaded_model.compile(loss='categorical_crossentropy', optimizer=RMSprop(), metrics=['accuracy'])\n",
    "\n",
    "history = loaded_model.fit(x_train, y_train, batch_size=batch_size, epochs=epochs, verbose=1)\n",
    "score = loaded_model.evaluate(x_test, y_test, verbose=0)\n",
    "print('Test loss:', score[0])\n",
    "print('Test accuracy:', score[1])"
   ]
  },
  {
   "cell_type": "markdown",
   "metadata": {
    "id": "pkU3RWOomSMs"
   },
   "source": [
    "### Saving a model and resuming the training later is the great relief in training large neural networks !"
   ]
  },
  {
   "cell_type": "markdown",
   "metadata": {
    "id": "lDfAYp5xmSMt"
   },
   "source": [
    "# Part 3: Activation Functions"
   ]
  },
  {
   "cell_type": "markdown",
   "metadata": {
    "id": "Sis7i5TdmSMx"
   },
   "source": [
    "### Sigmoid Activation Function"
   ]
  },
  {
   "cell_type": "code",
   "execution_count": null,
   "metadata": {
    "colab": {
     "base_uri": "https://localhost:8080/",
     "height": 658
    },
    "id": "OyZSlWeemSM0",
    "outputId": "aeb78f37-7fd4-4dc8-d2de-781d4679c2ee"
   },
   "outputs": [],
   "source": [
    "model = Sequential()\n",
    "model.add(Dense(8, activation='linear', input_shape=(784,)))\n",
    "model.add(Dense(8, activation='linear'))\n",
    "model.add(Dense(num_classes, activation='softmax'))\n",
    "\n",
    "model.summary()\n",
    "model.compile(loss='categorical_crossentropy',\n",
    "              optimizer=RMSprop(),\n",
    "              metrics=['accuracy'])\n",
    "\n",
    "history = model.fit(x_train, y_train,\n",
    "                    batch_size=batch_size,\n",
    "                    epochs=10,\n",
    "                    verbose=1,\n",
    "                    validation_data=(x_test, y_test))\n",
    "score = model.evaluate(x_test, y_test, verbose=0)\n",
    "print('Test loss:', score[0])\n",
    "print('Test accuracy:', score[1])"
   ]
  },
  {
   "cell_type": "markdown",
   "metadata": {
    "id": "GgzqbxsxmSM_"
   },
   "source": [
    "### Relu Activation Function"
   ]
  },
  {
   "cell_type": "code",
   "execution_count": null,
   "metadata": {
    "id": "lqS4KoO4mSNC"
   },
   "outputs": [],
   "source": [
    "# Write your code here \n",
    "\n",
    "# Use the same model design from the above cell "
   ]
  },
  {
   "cell_type": "markdown",
   "metadata": {
    "id": "kAFwGJ6qmSNI"
   },
   "source": [
    "### What are your findings?"
   ]
  },
  {
   "cell_type": "markdown",
   "metadata": {
    "id": "uuTttTdrmSNK"
   },
   "source": [
    "### Other Activation Functions\n",
    "* model.add(Dense(8, activation='tanh'))\n",
    "* model.add(Dense(8, activation='linear'))\n",
    "* model.add(Dense(8, activation='hard_sigmoid'))"
   ]
  },
  {
   "cell_type": "markdown",
   "metadata": {
    "id": "FQNP9I0xmSNL"
   },
   "source": [
    "### Tips\n",
    "* Relu is commonly used in most hidden layers\n",
    "* In case of dead neurons, use leaky Relu"
   ]
  },
  {
   "cell_type": "markdown",
   "metadata": {
    "id": "zWjm4eInmSNN"
   },
   "source": [
    "# Part 4: Design Choices in Neural Networks"
   ]
  },
  {
   "cell_type": "markdown",
   "metadata": {
    "id": "92WOKBj7mSNO"
   },
   "source": [
    "### Design a model with Low Number of Nodes. For Example 8"
   ]
  },
  {
   "cell_type": "code",
   "execution_count": null,
   "metadata": {
    "id": "4wsQdORcmSNP",
    "outputId": "f05f584b-304d-4e03-cf3d-3bd2039ef587"
   },
   "outputs": [],
   "source": [
    "first_layer_size = 8\n",
    "\n",
    "model = Sequential()\n",
    "model.add(Dense(first_layer_size, activation='sigmoid', input_shape=(784,)))\n",
    "model.add(Dense(32, activation='sigmoid'))\n",
    "model.add(Dense(num_classes, activation='softmax'))\n",
    "\n",
    "model.summary()\n",
    "model.compile(loss='categorical_crossentropy',\n",
    "              optimizer=RMSprop(),\n",
    "              metrics=['accuracy'])\n",
    "\n",
    "history = model.fit(x_train, y_train,\n",
    "                    batch_size=batch_size,\n",
    "                    epochs=epochs,\n",
    "                    verbose=1,\n",
    "                    validation_data=(x_test, y_test))\n",
    "score = model.evaluate(x_test, y_test, verbose=0)\n",
    "print('Test loss:', score[0])\n",
    "print('Test accuracy:', score[1])\n",
    "\n",
    "w = []\n",
    "for layer in model.layers:\n",
    "    weights = layer.get_weights()\n",
    "    w.append(weights)\n",
    "\n",
    "layer1 = np.array(w[0][0])\n",
    "print(\"Shape of First Layer\",layer1.shape)\n",
    "print(\"Visualization of First Layer\")\n",
    "\n",
    "import matplotlib.pyplot as plt\n",
    "fig=plt.figure(figsize=(16, 16))\n",
    "columns = 8\n",
    "rows = int(first_layer_size/8)\n",
    "for i in range(1, columns*rows +1):\n",
    "    fig.add_subplot(rows, columns, i)\n",
    "    plt.imshow(layer1[:,i-1].reshape(28,28),cmap='gray')\n",
    "plt.show()"
   ]
  },
  {
   "cell_type": "markdown",
   "metadata": {
    "id": "SYnMb7ICmSNV"
   },
   "source": [
    "### Design a model with Higher Number of Nodes. For example 128"
   ]
  },
  {
   "cell_type": "code",
   "execution_count": null,
   "metadata": {
    "id": "apTlIl_lmSNX"
   },
   "outputs": [],
   "source": [
    "# Write your code here \n",
    "\n",
    "# Use the same layer design from the above cell "
   ]
  },
  {
   "cell_type": "markdown",
   "metadata": {
    "id": "N4YS7NGQmSNf"
   },
   "source": [
    "### Lower number of Layers. For example 1 hidden layer"
   ]
  },
  {
   "cell_type": "code",
   "execution_count": null,
   "metadata": {
    "colab": {
     "base_uri": "https://localhost:8080/",
     "height": 1000
    },
    "id": "Bj0JrdLNmSNh",
    "outputId": "b4f466f7-3e55-4f7d-d20c-81a7612f9e9a"
   },
   "outputs": [],
   "source": [
    "model = Sequential()\n",
    "model.add(Dense(8, activation='relu', input_shape=(784,)))\n",
    "model.add(Dense(8, activation='relu'))\n",
    "model.add(Dense(8, activation='relu'))\n",
    "model.add(Dense(8, activation='relu'))\n",
    "model.add(Dense(8, activation='relu'))\n",
    "model.add(Dense(8, activation='relu'))\n",
    "model.add(Dense(8, activation='relu'))\n",
    "model.add(Dense(8, activation='relu'))\n",
    "model.add(Dense(8, activation='relu'))\n",
    "model.add(Dense(8, activation='relu'))\n",
    "model.add(Dense(8, activation='relu'))\n",
    "model.add(Dense(8, activation='relu'))\n",
    "model.add(Dense(8, activation='relu'))\n",
    "model.add(Dense(8, activation='relu'))\n",
    "model.add(Dense(8, activation='relu'))\n",
    "model.add(Dense(8, activation='relu'))\n",
    "model.add(Dense(8, activation='relu'))\n",
    "model.add(Dense(8, activation='relu'))\n",
    "model.add(Dense(8, activation='relu'))\n",
    "model.add(Dense(8, activation='relu'))\n",
    "model.add(Dense(num_classes, activation='softmax'))\n",
    "\n",
    "model.summary()\n",
    "model.compile(loss='categorical_crossentropy',\n",
    "              optimizer=RMSprop(),\n",
    "              metrics=['accuracy'])\n",
    "\n",
    "history = model.fit(x_train, y_train,\n",
    "                    batch_size=batch_size,\n",
    "                    epochs=10,\n",
    "                    verbose=1,\n",
    "                    validation_data=(x_test, y_test))\n",
    "score = model.evaluate(x_test, y_test, verbose=0)\n",
    "print('Test loss:', score[0])\n",
    "print('Test accuracy:', score[1])"
   ]
  },
  {
   "cell_type": "markdown",
   "metadata": {
    "id": "6or7gQTXmSNv"
   },
   "source": [
    "### Lower number of Layers. For example 4 hidden layers"
   ]
  },
  {
   "cell_type": "code",
   "execution_count": null,
   "metadata": {
    "id": "PkJLwCMumSNx"
   },
   "outputs": [],
   "source": [
    "# Write your code here \n",
    "\n",
    "# Use the same number of units from the above cell \n"
   ]
  },
  {
   "cell_type": "markdown",
   "metadata": {
    "id": "E1aokXk5mSN5"
   },
   "source": [
    "### Tips\n",
    "* Choice of number of nodes and layers are application oriented i.e. trial and error\n",
    "* Designing a neural network and reasoning the results is more of an art than a science"
   ]
  },
  {
   "cell_type": "code",
   "execution_count": null,
   "metadata": {
    "colab": {
     "base_uri": "https://localhost:8080/",
     "height": 269
    },
    "id": "luXAoYFYwSXV",
    "outputId": "ef941ee4-84ef-4f14-e3b9-dfd1e5a1dbc2"
   },
   "outputs": [],
   "source": [
    "import cv2\n",
    "import numpy as np\n",
    "from matplotlib import pyplot as plt\n",
    "\n",
    "img = cv2.imread(\"digit.jpg\")\n",
    "img_cvt=cv2.cvtColor(img, cv2.COLOR_BGR2RGB)\n",
    "plt.imshow(img_cvt)\n",
    "plt.show()"
   ]
  },
  {
   "cell_type": "code",
   "execution_count": null,
   "metadata": {
    "colab": {
     "base_uri": "https://localhost:8080/",
     "height": 287
    },
    "id": "Ktpnjw1gwXO2",
    "outputId": "bf5a3bb1-31a4-4288-8a68-0492b9ab3e2c"
   },
   "outputs": [],
   "source": [
    "from matplotlib import pyplot as plt\n",
    "import numpy as np\n",
    "import cv2\n",
    "\n",
    "img = cv2.imread('digit.jpg')\n",
    "img2 = img[:,:,::-1]\n",
    "plt.imshow(img2)"
   ]
  },
  {
   "cell_type": "code",
   "execution_count": null,
   "metadata": {
    "id": "SZmhNqf40XRl"
   },
   "outputs": [],
   "source": []
  }
 ],
 "metadata": {
  "accelerator": "GPU",
  "colab": {
   "collapsed_sections": [
    "cuF1EvpRmSKu",
    "agLG0AfxmSK5",
    "CzpQBZSSmSLI",
    "OeWYc7TEmSLY",
    "9i42YecvmSLb",
    "gyz4XOM5mSLl",
    "A3nA75YOmSL4",
    "shkvgKcFmSMB",
    "28KqNcJCmSMP",
    "TZxBZaT2mSMZ",
    "dFKj3Ba5mSMg",
    "pkU3RWOomSMs",
    "Sis7i5TdmSMx",
    "GgzqbxsxmSM_",
    "kAFwGJ6qmSNI",
    "uuTttTdrmSNK",
    "FQNP9I0xmSNL",
    "92WOKBj7mSNO",
    "SYnMb7ICmSNV",
    "N4YS7NGQmSNf",
    "6or7gQTXmSNv",
    "E1aokXk5mSN5"
   ],
   "name": "2.Neural_Network.ipynb",
   "provenance": []
  },
  "kernelspec": {
   "display_name": "Python 3 (ipykernel)",
   "language": "python",
   "name": "python3"
  },
  "language_info": {
   "codemirror_mode": {
    "name": "ipython",
    "version": 3
   },
   "file_extension": ".py",
   "mimetype": "text/x-python",
   "name": "python",
   "nbconvert_exporter": "python",
   "pygments_lexer": "ipython3",
   "version": "3.9.12"
  }
 },
 "nbformat": 4,
 "nbformat_minor": 1
}
